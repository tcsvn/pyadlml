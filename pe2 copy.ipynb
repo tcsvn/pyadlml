{
    "cells": [
        {
            "cell_type": "code",
            "execution_count": null,
            "metadata": {},
            "outputs": [],
            "source": [
                "import pandas as pd\n",
                "import numpy as np\n",
                "import seaborn as sns\n",
                "from pyadlml.constants import *\n",
                "import matplotlib.pyplot as plt"
            ]
        },
        {
            "attachments": {},
            "cell_type": "markdown",
            "metadata": {},
            "source": [
                "#### Not alternating PE"
            ]
        },
        {
            "cell_type": "code",
            "execution_count": null,
            "metadata": {},
            "outputs": [],
            "source": [
                "from pyadlml.preprocessing import PositionalEncoding\n",
                "\n",
                "X = np.arange(0, 100)\n",
                "pe = PositionalEncoding(d_dim=50, inplace=False)\n",
                "pe.fit()\n",
                "print(pe.max_period, pe.min_freq)\n",
                "ma = pe.transform(X)\n",
                "pe.plot_angular_freq()\n",
                "pe.plot_pe_mat(X)\n",
                "pe.plot_dotproduct_similarity(X, 50);"
            ]
        },
        {
            "cell_type": "code",
            "execution_count": null,
            "metadata": {},
            "outputs": [],
            "source": [
                "from pyadlml.preprocessing import TimePositionalEncoding\n",
                " \n",
                "    \n",
                "X = pd.DataFrame(columns=[TIME], \n",
                "                  data=pd.date_range(start='6/1/2020', end='6/2/2020 00:30:00')[:-1])\n",
                "X['f1'] = 2\n",
                "\n",
                "pe = TimePositionalEncoding(d_dim=20, inplace=False, res=pd.Timedelta('1ms'))\n",
                "pe.fit()\n",
                "print(pe.res, pe.max_period, pe.min_freq)\n",
                "#ma = pe.transform(X)\n",
                "pe.plot_angular_freq()\n",
                "pe.plot_waves(1e6)\n",
                "pe.plot_pe_mat(X)\n",
                "pe.plot_dotproduct_similarity(X, 50)\n",
                ";"
            ]
        },
        {
            "cell_type": "code",
            "execution_count": null,
            "metadata": {},
            "outputs": [],
            "source": [
                "from pyadlml.preprocessing import CyclicTimePositionalEncoding\n",
                "    \n",
                "    \n",
                "X = pd.DataFrame(columns=[TIME], \n",
                "                  data=pd.date_range(start='6/1/2020', end='6/2/2020 00:30:00', freq='1s')[:-1])\n",
                "X['f1'] = 2\n",
                "# 1.3\n",
                "pe = CyclicTimePositionalEncoding(d_dim=20, max_period='1D', min_period='1min').fit()\n",
                "#print(pe.get_periods())\n",
                "#print(pe.get_max_base())\n",
                "#pe.plotly_wave_length_per_dim().show()\n",
                "\n",
                "#print(pe.res, pe.max_period, pe.min_freq)\n",
                "ma = pe.transform(X)\n",
                "#pe.plotly_wave_length_per_dim().show()\n",
                "#pe.plot_angular_freq()\n",
                "#pe.plot_waves(1e6)\n",
                "#pe.plot_pe_mat(X)\n",
                "#pe.plot_dotproduct_similarity(X, 0);\n",
                "#pe._num2td(pe.get_periods().min())\n",
                ";"
            ]
        },
        {
            "cell_type": "code",
            "execution_count": null,
            "metadata": {},
            "outputs": [],
            "source": []
        },
        {
            "cell_type": "code",
            "execution_count": null,
            "metadata": {},
            "outputs": [],
            "source": [
                "import numpy as np\n",
                "import plotly.graph_objects as go\n",
                "\n",
                "#  Generate x values from 0 to 2*pi\n",
                "lmbd = 8640\n",
                "\n",
                "f = 1/lmbd\n",
                "w = np.pi*2*f\n",
                "x = np.linspace(0, lmbd+100, lmbd*8)\n",
                "\n",
                "# Compute y values using the sine function\n",
                "y = np.sin(w*x)\n",
                "denom = 2**15\n",
                "f = 1/(lmbd/min(denom,lmbd))\n",
                "print(f, denom, lmbd)\n",
                "w = np.pi*2*f\n",
                "\n",
                "y1 = np.sin(w*x)\n",
                "e=1\n",
                "# Create traces\n",
                "trace0 = go.Scatter(x=x, y=y, mode='lines', name=f'f={f:.2f}, lmbd={1/f:.2f}, e={e}')\n",
                "trace1 = go.Scatter(x=x, y=y1, mode='lines', name=f'f={f:.2f}, lmbd={1/f:.2f}, e={e}')\n",
                "trace2 = go.Scatter(x=[np.pi, np.pi], y=[-1, 1], mode='lines', name='pi line', line=dict(color='black', dash='dot'))\n",
                "trace3 = go.Scatter(x=[1, 1], y=[-1, 1], mode='lines', name='1 line', line=dict(color='black'))\n",
                "trace4 = go.Scatter(x=[lmbd, lmbd], y=[-1, 1], mode='lines', name='lmbd line', line=dict(color='red'))\n",
                "\n",
                "layout = go.Layout(title='Sine Function', \n",
                "                   xaxis=dict(title='x'), \n",
                "                   yaxis=dict(title='sin(x)'))\n",
                "\n",
                "fig = go.Figure(data=[\n",
                "    trace0,\n",
                "    trace1, \n",
                "    trace2,\n",
                "    trace3,\n",
                "    trace4\n",
                "], layout=layout)\n",
                "\n",
                "\n",
                "# Display the plot\n",
                "fig.show()\n",
                "\n"
            ]
        },
        {
            "cell_type": "code",
            "execution_count": null,
            "metadata": {},
            "outputs": [],
            "source": [
                "X.at[0, TIME]"
            ]
        },
        {
            "cell_type": "code",
            "execution_count": null,
            "metadata": {},
            "outputs": [],
            "source": [
                "pd.Timedelta('1ms').total_seconds()"
            ]
        },
        {
            "cell_type": "code",
            "execution_count": null,
            "metadata": {},
            "outputs": [],
            "source": [
                "import numpy as np\n",
                "import matplotlib.pyplot as plt\n",
                "from scipy.optimize import curve_fit\n",
                "\n",
                "# define the form of the function we want to fit\n",
                "base = 2.16\n",
                "#def func(x, a, b):\n",
                "#    return a * np.power(base, b * x)\n",
                "\n",
                "# wokring\n",
                "#def func(x, a):\n",
                "#    return 4.0*np.power(21600/4.0, (x/15))\n",
                "\n",
                "d = 15\n",
                "o = 10\n",
                "max_period = 21600.0    # 6h\n",
                "min_period = 4.0        # 4s\n",
                "\n",
                "def func(i, a, b):\n",
                "    return (1/max_period)*np.power(np.e, b*i)\n",
                "def func(i, a,b):\n",
                "    return 1/(np.round(np.power(max_period/min_period, (-i+(d-1))/(d-1)))/max_period)\n",
                "\n",
                "# points\n",
                "xdata = np.array([0, d])\n",
                "ydata = np.array([min_period, max_period])\n",
                "\n",
                "# use curve_fit to find optimized values for a and b\n",
                "popt, pcov = curve_fit(func, xdata, ydata)\n",
                "print(popt)\n",
                "\n",
                "# create a range of x values\n",
                "x = np.linspace(0, d, 400)\n",
                "\n",
                "# calculate the corresponding y values\n",
                "y = func(x, *popt)\n",
                "\n",
                "y_d = func(np.arange(0,d), *popt).astype(int)\n",
                "# plot the points\n",
                "plt.scatter(xdata, ydata, color='red')\n",
                "plt.scatter(np.arange(1, d-1), y_d[1:-1], color='blue')\n",
                "# plot the fit\n",
                "plt.plot(x, y, label=f'a')\n",
                "print(y_d)\n",
                "\n",
                "plt.legend()\n",
                "plt.show()\n",
                "plt.clr()"
            ]
        },
        {
            "cell_type": "code",
            "execution_count": null,
            "metadata": {},
            "outputs": [],
            "source": [
                "import numpy as np\n",
                "import pandas as pd\n",
                "from pyadlml.constants import TIME\n",
                "import plotly.graph_objects as go\n",
                "import pandas as pd\n",
                "from pyadlml.constants import TIME\n",
                "\n",
                "res = '100ms'\n",
                "min_period = pd.Timedelta('4s')\n",
                "max_period = pd.Timedelta('6h')\n",
                "min_period_posx = int(min_period/pd.Timedelta(res))\n",
                "max_period_posx = int(max_period/pd.Timedelta(res))\n",
                "X = pd.DataFrame(columns=[TIME], \n",
                "                  data=pd.date_range(start='6/1/2020', end='6/1/2020 06:30:00', freq=res)[:-1])\n",
                "X['f1'] = 2\n",
                "\n",
                "num_min_period = min_period.total_seconds()\n",
                "num_max_period = max_period.total_seconds()\n",
                "\n",
                "print('n minp: ', num_min_period)\n",
                "print('n maxp: ', num_max_period)\n",
                "\n",
                "# Convert timestamps to numeric in seconds\n",
                "td = (X[TIME] - pd.to_datetime(X[TIME].dt.date))\n",
                "x = td.dt.total_seconds()\n",
                "\n",
                "# one period in 6h\n",
                "f2 = 1/num_max_period       \n",
                "w2 = np.pi*2*f2\n",
                "y2 = np.sin(w2*x)\n",
                "\n",
                "# one period in 4s\n",
                "f3 = 1/num_min_period\n",
                "w3 = np.pi*2*f3\n",
                "y3 = np.sin(w3*x)\n",
                "\n",
                "\n",
                "d = 15\n",
                "i = 0\n",
                "#denom = (num_min_period*np.power(num_max_period/num_min_period, i/d))\n",
                "denom = round(np.power(num_max_period/num_min_period, (-i+d)/d))/num_max_period\n",
                "f1 = denom\n",
                "w1 = np.pi*2*f1\n",
                "y1 = np.sin(w1*x)\n",
                "\n",
                "denom = 2**15\n",
                "f4 = 1/(num_max_period/min(denom, num_max_period))\n",
                "w4 = np.pi*2*f4\n",
                "y4 = np.sin(w4*x)\n",
                "e=0\n",
                "\n",
                "\n",
                "# Create traces\n",
                "trace1 = go.Scatter(x=X[TIME], y=y1, mode='lines', name=f'1: f={f1:.2f}, lmbd={1/f1:.2f}')\n",
                "trace2 = go.Scatter(x=X[TIME], y=y2, mode='lines', name=f'2: f={f2:.2f}, lmbd={1/f2:.2f}=maxp')\n",
                "trace3 = go.Scatter(x=X[TIME], y=y3, mode='lines', name=f'3: f={f3:.2f}, lmbd={1/f3:.2f}=minp')\n",
                "trace5 = go.Scatter(x=[X.at[min_period_posx, TIME]]*2, y=[-1, 1], mode='lines', name=f'{min_period}', line=dict(color='black'))\n",
                "trace6 = go.Scatter(x=[X.at[max_period_posx, TIME]]*2, y=[-1, 1], mode='lines', name='line', line=dict(color='black'))\n",
                "\n",
                "layout = go.Layout(title='Sine Function', \n",
                "                   xaxis=dict(title='x'), \n",
                "                   yaxis=dict(title='sin(x)'))\n",
                "\n",
                "fig = go.Figure(data=[\n",
                "    trace1,\n",
                "    trace2,\n",
                "    trace3,\n",
                "    trace5,\n",
                "    trace6,\n",
                "], layout=layout)\n",
                "\n",
                "fig.update_layout(\n",
                "    xaxis_range=[X.at[0, TIME], X.at[min_period_posx, TIME]],\n",
                "    yaxis=dict(fixedrange=True)\n",
                ")\n",
                "# Display the plot\n",
                "fig.show()"
            ]
        },
        {
            "cell_type": "code",
            "execution_count": 2,
            "metadata": {},
            "outputs": [
                {
                    "data": {
                        "text/html": [
                            "<style>#sk-container-id-1 {color: black;background-color: white;}#sk-container-id-1 pre{padding: 0;}#sk-container-id-1 div.sk-toggleable {background-color: white;}#sk-container-id-1 label.sk-toggleable__label {cursor: pointer;display: block;width: 100%;margin-bottom: 0;padding: 0.3em;box-sizing: border-box;text-align: center;}#sk-container-id-1 label.sk-toggleable__label-arrow:before {content: \"▸\";float: left;margin-right: 0.25em;color: #696969;}#sk-container-id-1 label.sk-toggleable__label-arrow:hover:before {color: black;}#sk-container-id-1 div.sk-estimator:hover label.sk-toggleable__label-arrow:before {color: black;}#sk-container-id-1 div.sk-toggleable__content {max-height: 0;max-width: 0;overflow: hidden;text-align: left;background-color: #f0f8ff;}#sk-container-id-1 div.sk-toggleable__content pre {margin: 0.2em;color: black;border-radius: 0.25em;background-color: #f0f8ff;}#sk-container-id-1 input.sk-toggleable__control:checked~div.sk-toggleable__content {max-height: 200px;max-width: 100%;overflow: auto;}#sk-container-id-1 input.sk-toggleable__control:checked~label.sk-toggleable__label-arrow:before {content: \"▾\";}#sk-container-id-1 div.sk-estimator input.sk-toggleable__control:checked~label.sk-toggleable__label {background-color: #d4ebff;}#sk-container-id-1 div.sk-label input.sk-toggleable__control:checked~label.sk-toggleable__label {background-color: #d4ebff;}#sk-container-id-1 input.sk-hidden--visually {border: 0;clip: rect(1px 1px 1px 1px);clip: rect(1px, 1px, 1px, 1px);height: 1px;margin: -1px;overflow: hidden;padding: 0;position: absolute;width: 1px;}#sk-container-id-1 div.sk-estimator {font-family: monospace;background-color: #f0f8ff;border: 1px dotted black;border-radius: 0.25em;box-sizing: border-box;margin-bottom: 0.5em;}#sk-container-id-1 div.sk-estimator:hover {background-color: #d4ebff;}#sk-container-id-1 div.sk-parallel-item::after {content: \"\";width: 100%;border-bottom: 1px solid gray;flex-grow: 1;}#sk-container-id-1 div.sk-label:hover label.sk-toggleable__label {background-color: #d4ebff;}#sk-container-id-1 div.sk-serial::before {content: \"\";position: absolute;border-left: 1px solid gray;box-sizing: border-box;top: 0;bottom: 0;left: 50%;z-index: 0;}#sk-container-id-1 div.sk-serial {display: flex;flex-direction: column;align-items: center;background-color: white;padding-right: 0.2em;padding-left: 0.2em;position: relative;}#sk-container-id-1 div.sk-item {position: relative;z-index: 1;}#sk-container-id-1 div.sk-parallel {display: flex;align-items: stretch;justify-content: center;background-color: white;position: relative;}#sk-container-id-1 div.sk-item::before, #sk-container-id-1 div.sk-parallel-item::before {content: \"\";position: absolute;border-left: 1px solid gray;box-sizing: border-box;top: 0;bottom: 0;left: 50%;z-index: -1;}#sk-container-id-1 div.sk-parallel-item {display: flex;flex-direction: column;z-index: 1;position: relative;background-color: white;}#sk-container-id-1 div.sk-parallel-item:first-child::after {align-self: flex-end;width: 50%;}#sk-container-id-1 div.sk-parallel-item:last-child::after {align-self: flex-start;width: 50%;}#sk-container-id-1 div.sk-parallel-item:only-child::after {width: 0;}#sk-container-id-1 div.sk-dashed-wrapped {border: 1px dashed gray;margin: 0 0.4em 0.5em 0.4em;box-sizing: border-box;padding-bottom: 0.4em;background-color: white;}#sk-container-id-1 div.sk-label label {font-family: monospace;font-weight: bold;display: inline-block;line-height: 1.2em;}#sk-container-id-1 div.sk-label-container {text-align: center;}#sk-container-id-1 div.sk-container {/* jupyter's `normalize.less` sets `[hidden] { display: none; }` but bootstrap.min.css set `[hidden] { display: none !important; }` so we also need the `!important` here to be able to override the default hidden behavior on the sphinx rendered scikit-learn.org. See: https://github.com/scikit-learn/scikit-learn/issues/21755 */display: inline-block !important;position: relative;}#sk-container-id-1 div.sk-text-repr-fallback {display: none;}</style><div id=\"sk-container-id-1\" class=\"sk-top-container\"><div class=\"sk-text-repr-fallback\"><pre>CyclicTimePositionalEncoding(d_dim=16, max_period=Timedelta(&#x27;1 days 00:00:00&#x27;),\n",
                            "                             min_period=Timedelta(&#x27;0 days 00:00:04&#x27;))</pre><b>In a Jupyter environment, please rerun this cell to show the HTML representation or trust the notebook. <br />On GitHub, the HTML representation is unable to render, please try loading this page with nbviewer.org.</b></div><div class=\"sk-container\" hidden><div class=\"sk-item\"><div class=\"sk-estimator sk-toggleable\"><input class=\"sk-toggleable__control sk-hidden--visually\" id=\"sk-estimator-id-1\" type=\"checkbox\" checked><label for=\"sk-estimator-id-1\" class=\"sk-toggleable__label sk-toggleable__label-arrow\">CyclicTimePositionalEncoding</label><div class=\"sk-toggleable__content\"><pre>CyclicTimePositionalEncoding(d_dim=16, max_period=Timedelta(&#x27;1 days 00:00:00&#x27;),\n",
                            "                             min_period=Timedelta(&#x27;0 days 00:00:04&#x27;))</pre></div></div></div></div></div>"
                        ],
                        "text/plain": [
                            "CyclicTimePositionalEncoding(d_dim=16, max_period=Timedelta('1 days 00:00:00'),\n",
                            "                             min_period=Timedelta('0 days 00:00:04'))"
                        ]
                    },
                    "execution_count": 2,
                    "metadata": {},
                    "output_type": "execute_result"
                }
            ],
            "source": [
                "from pyadlml.preprocessing import CyclicTimePositionalEncoding\n",
                "from pyadlml.constants import TIME\n",
                "import pandas as pd\n",
                " \n",
                "#ctpe = CyclicTimePositionalEncoding(d_dim=16, max_period='6h', min_period='4s').fit()\n",
                "#ctpe.plotly_waves().show()\n",
                "X = pd.DataFrame(columns=[TIME], \n",
                "                  data=pd.date_range(start='6/2/2020', end='6/2/2020 00:30:00', freq='10s'))\n",
                "X['f1'] = 2\n",
                "\n",
                "pe = CyclicTimePositionalEncoding(d_dim=16, max_period='24h', min_period='4s')\n",
                "pe.fit()\n",
                "#ma = pe.transform(X)\n",
                "#pe.plot_angular_freq()\n",
                "#pe.plot_pe_mat(X)\n",
                "#pe.plot_dotproduct_similarity(X, 170);\n",
                "# #pe.plotly_wave_length_per_dim()"
            ]
        },
        {
            "cell_type": "code",
            "execution_count": 18,
            "metadata": {},
            "outputs": [
                {
                    "name": "stdout",
                    "output_type": "stream",
                    "text": [
                        "timedelta64[ns]\n"
                    ]
                },
                {
                    "data": {
                        "application/vnd.plotly.v1+json": {
                            "config": {
                                "plotlyServerURL": "https://plot.ly"
                            },
                            "data": [
                                {
                                    "customdata": [
                                        "0 days 00:00:04",
                                        "0 days 00:00:04",
                                        "0 days 00:00:16.644191870",
                                        "0 days 00:00:16.644191870",
                                        "0 days 00:01:09.286287089",
                                        "0 days 00:01:09.286287089",
                                        "0 days 00:04:48",
                                        "0 days 00:04:48",
                                        "0 days 00:20:00",
                                        "0 days 00:20:00",
                                        "0 days 01:24:42.352941176",
                                        "0 days 01:24:42.352941176",
                                        "0 days 06:00:00",
                                        "0 days 06:00:00",
                                        "1 days 00:00:00",
                                        "1 days 00:00:00"
                                    ],
                                    "hovertemplate": "Dim: %{y}<br>Period: %{customdata}<br><extra></extra>",
                                    "type": "scatter",
                                    "x": [
                                        "2000-01-01T00:00:04.000000000",
                                        "2000-01-01T00:00:04.000000000",
                                        "2000-01-01T00:00:16.644191870",
                                        "2000-01-01T00:00:16.644191870",
                                        "2000-01-01T00:01:09.286287089",
                                        "2000-01-01T00:01:09.286287089",
                                        "2000-01-01T00:04:48.000000000",
                                        "2000-01-01T00:04:48.000000000",
                                        "2000-01-01T00:20:00.000000000",
                                        "2000-01-01T00:20:00.000000000",
                                        "2000-01-01T01:24:42.352941176",
                                        "2000-01-01T01:24:42.352941176",
                                        "2000-01-01T06:00:00.000000000",
                                        "2000-01-01T06:00:00.000000000",
                                        "2000-01-02T00:00:00.000000000",
                                        "2000-01-02T00:00:00.000000000"
                                    ],
                                    "y": [
                                        0,
                                        1,
                                        2,
                                        3,
                                        4,
                                        5,
                                        6,
                                        7,
                                        8,
                                        9,
                                        10,
                                        11,
                                        12,
                                        13,
                                        14,
                                        15
                                    ]
                                }
                            ],
                            "layout": {
                                "template": {
                                    "data": {
                                        "bar": [
                                            {
                                                "error_x": {
                                                    "color": "#2a3f5f"
                                                },
                                                "error_y": {
                                                    "color": "#2a3f5f"
                                                },
                                                "marker": {
                                                    "line": {
                                                        "color": "#E5ECF6",
                                                        "width": 0.5
                                                    },
                                                    "pattern": {
                                                        "fillmode": "overlay",
                                                        "size": 10,
                                                        "solidity": 0.2
                                                    }
                                                },
                                                "type": "bar"
                                            }
                                        ],
                                        "barpolar": [
                                            {
                                                "marker": {
                                                    "line": {
                                                        "color": "#E5ECF6",
                                                        "width": 0.5
                                                    },
                                                    "pattern": {
                                                        "fillmode": "overlay",
                                                        "size": 10,
                                                        "solidity": 0.2
                                                    }
                                                },
                                                "type": "barpolar"
                                            }
                                        ],
                                        "carpet": [
                                            {
                                                "aaxis": {
                                                    "endlinecolor": "#2a3f5f",
                                                    "gridcolor": "white",
                                                    "linecolor": "white",
                                                    "minorgridcolor": "white",
                                                    "startlinecolor": "#2a3f5f"
                                                },
                                                "baxis": {
                                                    "endlinecolor": "#2a3f5f",
                                                    "gridcolor": "white",
                                                    "linecolor": "white",
                                                    "minorgridcolor": "white",
                                                    "startlinecolor": "#2a3f5f"
                                                },
                                                "type": "carpet"
                                            }
                                        ],
                                        "choropleth": [
                                            {
                                                "colorbar": {
                                                    "outlinewidth": 0,
                                                    "ticks": ""
                                                },
                                                "type": "choropleth"
                                            }
                                        ],
                                        "contour": [
                                            {
                                                "colorbar": {
                                                    "outlinewidth": 0,
                                                    "ticks": ""
                                                },
                                                "colorscale": [
                                                    [
                                                        0,
                                                        "#0d0887"
                                                    ],
                                                    [
                                                        0.1111111111111111,
                                                        "#46039f"
                                                    ],
                                                    [
                                                        0.2222222222222222,
                                                        "#7201a8"
                                                    ],
                                                    [
                                                        0.3333333333333333,
                                                        "#9c179e"
                                                    ],
                                                    [
                                                        0.4444444444444444,
                                                        "#bd3786"
                                                    ],
                                                    [
                                                        0.5555555555555556,
                                                        "#d8576b"
                                                    ],
                                                    [
                                                        0.6666666666666666,
                                                        "#ed7953"
                                                    ],
                                                    [
                                                        0.7777777777777778,
                                                        "#fb9f3a"
                                                    ],
                                                    [
                                                        0.8888888888888888,
                                                        "#fdca26"
                                                    ],
                                                    [
                                                        1,
                                                        "#f0f921"
                                                    ]
                                                ],
                                                "type": "contour"
                                            }
                                        ],
                                        "contourcarpet": [
                                            {
                                                "colorbar": {
                                                    "outlinewidth": 0,
                                                    "ticks": ""
                                                },
                                                "type": "contourcarpet"
                                            }
                                        ],
                                        "heatmap": [
                                            {
                                                "colorbar": {
                                                    "outlinewidth": 0,
                                                    "ticks": ""
                                                },
                                                "colorscale": [
                                                    [
                                                        0,
                                                        "#0d0887"
                                                    ],
                                                    [
                                                        0.1111111111111111,
                                                        "#46039f"
                                                    ],
                                                    [
                                                        0.2222222222222222,
                                                        "#7201a8"
                                                    ],
                                                    [
                                                        0.3333333333333333,
                                                        "#9c179e"
                                                    ],
                                                    [
                                                        0.4444444444444444,
                                                        "#bd3786"
                                                    ],
                                                    [
                                                        0.5555555555555556,
                                                        "#d8576b"
                                                    ],
                                                    [
                                                        0.6666666666666666,
                                                        "#ed7953"
                                                    ],
                                                    [
                                                        0.7777777777777778,
                                                        "#fb9f3a"
                                                    ],
                                                    [
                                                        0.8888888888888888,
                                                        "#fdca26"
                                                    ],
                                                    [
                                                        1,
                                                        "#f0f921"
                                                    ]
                                                ],
                                                "type": "heatmap"
                                            }
                                        ],
                                        "heatmapgl": [
                                            {
                                                "colorbar": {
                                                    "outlinewidth": 0,
                                                    "ticks": ""
                                                },
                                                "colorscale": [
                                                    [
                                                        0,
                                                        "#0d0887"
                                                    ],
                                                    [
                                                        0.1111111111111111,
                                                        "#46039f"
                                                    ],
                                                    [
                                                        0.2222222222222222,
                                                        "#7201a8"
                                                    ],
                                                    [
                                                        0.3333333333333333,
                                                        "#9c179e"
                                                    ],
                                                    [
                                                        0.4444444444444444,
                                                        "#bd3786"
                                                    ],
                                                    [
                                                        0.5555555555555556,
                                                        "#d8576b"
                                                    ],
                                                    [
                                                        0.6666666666666666,
                                                        "#ed7953"
                                                    ],
                                                    [
                                                        0.7777777777777778,
                                                        "#fb9f3a"
                                                    ],
                                                    [
                                                        0.8888888888888888,
                                                        "#fdca26"
                                                    ],
                                                    [
                                                        1,
                                                        "#f0f921"
                                                    ]
                                                ],
                                                "type": "heatmapgl"
                                            }
                                        ],
                                        "histogram": [
                                            {
                                                "marker": {
                                                    "pattern": {
                                                        "fillmode": "overlay",
                                                        "size": 10,
                                                        "solidity": 0.2
                                                    }
                                                },
                                                "type": "histogram"
                                            }
                                        ],
                                        "histogram2d": [
                                            {
                                                "colorbar": {
                                                    "outlinewidth": 0,
                                                    "ticks": ""
                                                },
                                                "colorscale": [
                                                    [
                                                        0,
                                                        "#0d0887"
                                                    ],
                                                    [
                                                        0.1111111111111111,
                                                        "#46039f"
                                                    ],
                                                    [
                                                        0.2222222222222222,
                                                        "#7201a8"
                                                    ],
                                                    [
                                                        0.3333333333333333,
                                                        "#9c179e"
                                                    ],
                                                    [
                                                        0.4444444444444444,
                                                        "#bd3786"
                                                    ],
                                                    [
                                                        0.5555555555555556,
                                                        "#d8576b"
                                                    ],
                                                    [
                                                        0.6666666666666666,
                                                        "#ed7953"
                                                    ],
                                                    [
                                                        0.7777777777777778,
                                                        "#fb9f3a"
                                                    ],
                                                    [
                                                        0.8888888888888888,
                                                        "#fdca26"
                                                    ],
                                                    [
                                                        1,
                                                        "#f0f921"
                                                    ]
                                                ],
                                                "type": "histogram2d"
                                            }
                                        ],
                                        "histogram2dcontour": [
                                            {
                                                "colorbar": {
                                                    "outlinewidth": 0,
                                                    "ticks": ""
                                                },
                                                "colorscale": [
                                                    [
                                                        0,
                                                        "#0d0887"
                                                    ],
                                                    [
                                                        0.1111111111111111,
                                                        "#46039f"
                                                    ],
                                                    [
                                                        0.2222222222222222,
                                                        "#7201a8"
                                                    ],
                                                    [
                                                        0.3333333333333333,
                                                        "#9c179e"
                                                    ],
                                                    [
                                                        0.4444444444444444,
                                                        "#bd3786"
                                                    ],
                                                    [
                                                        0.5555555555555556,
                                                        "#d8576b"
                                                    ],
                                                    [
                                                        0.6666666666666666,
                                                        "#ed7953"
                                                    ],
                                                    [
                                                        0.7777777777777778,
                                                        "#fb9f3a"
                                                    ],
                                                    [
                                                        0.8888888888888888,
                                                        "#fdca26"
                                                    ],
                                                    [
                                                        1,
                                                        "#f0f921"
                                                    ]
                                                ],
                                                "type": "histogram2dcontour"
                                            }
                                        ],
                                        "mesh3d": [
                                            {
                                                "colorbar": {
                                                    "outlinewidth": 0,
                                                    "ticks": ""
                                                },
                                                "type": "mesh3d"
                                            }
                                        ],
                                        "parcoords": [
                                            {
                                                "line": {
                                                    "colorbar": {
                                                        "outlinewidth": 0,
                                                        "ticks": ""
                                                    }
                                                },
                                                "type": "parcoords"
                                            }
                                        ],
                                        "pie": [
                                            {
                                                "automargin": true,
                                                "type": "pie"
                                            }
                                        ],
                                        "scatter": [
                                            {
                                                "fillpattern": {
                                                    "fillmode": "overlay",
                                                    "size": 10,
                                                    "solidity": 0.2
                                                },
                                                "type": "scatter"
                                            }
                                        ],
                                        "scatter3d": [
                                            {
                                                "line": {
                                                    "colorbar": {
                                                        "outlinewidth": 0,
                                                        "ticks": ""
                                                    }
                                                },
                                                "marker": {
                                                    "colorbar": {
                                                        "outlinewidth": 0,
                                                        "ticks": ""
                                                    }
                                                },
                                                "type": "scatter3d"
                                            }
                                        ],
                                        "scattercarpet": [
                                            {
                                                "marker": {
                                                    "colorbar": {
                                                        "outlinewidth": 0,
                                                        "ticks": ""
                                                    }
                                                },
                                                "type": "scattercarpet"
                                            }
                                        ],
                                        "scattergeo": [
                                            {
                                                "marker": {
                                                    "colorbar": {
                                                        "outlinewidth": 0,
                                                        "ticks": ""
                                                    }
                                                },
                                                "type": "scattergeo"
                                            }
                                        ],
                                        "scattergl": [
                                            {
                                                "marker": {
                                                    "colorbar": {
                                                        "outlinewidth": 0,
                                                        "ticks": ""
                                                    }
                                                },
                                                "type": "scattergl"
                                            }
                                        ],
                                        "scattermapbox": [
                                            {
                                                "marker": {
                                                    "colorbar": {
                                                        "outlinewidth": 0,
                                                        "ticks": ""
                                                    }
                                                },
                                                "type": "scattermapbox"
                                            }
                                        ],
                                        "scatterpolar": [
                                            {
                                                "marker": {
                                                    "colorbar": {
                                                        "outlinewidth": 0,
                                                        "ticks": ""
                                                    }
                                                },
                                                "type": "scatterpolar"
                                            }
                                        ],
                                        "scatterpolargl": [
                                            {
                                                "marker": {
                                                    "colorbar": {
                                                        "outlinewidth": 0,
                                                        "ticks": ""
                                                    }
                                                },
                                                "type": "scatterpolargl"
                                            }
                                        ],
                                        "scatterternary": [
                                            {
                                                "marker": {
                                                    "colorbar": {
                                                        "outlinewidth": 0,
                                                        "ticks": ""
                                                    }
                                                },
                                                "type": "scatterternary"
                                            }
                                        ],
                                        "surface": [
                                            {
                                                "colorbar": {
                                                    "outlinewidth": 0,
                                                    "ticks": ""
                                                },
                                                "colorscale": [
                                                    [
                                                        0,
                                                        "#0d0887"
                                                    ],
                                                    [
                                                        0.1111111111111111,
                                                        "#46039f"
                                                    ],
                                                    [
                                                        0.2222222222222222,
                                                        "#7201a8"
                                                    ],
                                                    [
                                                        0.3333333333333333,
                                                        "#9c179e"
                                                    ],
                                                    [
                                                        0.4444444444444444,
                                                        "#bd3786"
                                                    ],
                                                    [
                                                        0.5555555555555556,
                                                        "#d8576b"
                                                    ],
                                                    [
                                                        0.6666666666666666,
                                                        "#ed7953"
                                                    ],
                                                    [
                                                        0.7777777777777778,
                                                        "#fb9f3a"
                                                    ],
                                                    [
                                                        0.8888888888888888,
                                                        "#fdca26"
                                                    ],
                                                    [
                                                        1,
                                                        "#f0f921"
                                                    ]
                                                ],
                                                "type": "surface"
                                            }
                                        ],
                                        "table": [
                                            {
                                                "cells": {
                                                    "fill": {
                                                        "color": "#EBF0F8"
                                                    },
                                                    "line": {
                                                        "color": "white"
                                                    }
                                                },
                                                "header": {
                                                    "fill": {
                                                        "color": "#C8D4E3"
                                                    },
                                                    "line": {
                                                        "color": "white"
                                                    }
                                                },
                                                "type": "table"
                                            }
                                        ]
                                    },
                                    "layout": {
                                        "annotationdefaults": {
                                            "arrowcolor": "#2a3f5f",
                                            "arrowhead": 0,
                                            "arrowwidth": 1
                                        },
                                        "autotypenumbers": "strict",
                                        "coloraxis": {
                                            "colorbar": {
                                                "outlinewidth": 0,
                                                "ticks": ""
                                            }
                                        },
                                        "colorscale": {
                                            "diverging": [
                                                [
                                                    0,
                                                    "#8e0152"
                                                ],
                                                [
                                                    0.1,
                                                    "#c51b7d"
                                                ],
                                                [
                                                    0.2,
                                                    "#de77ae"
                                                ],
                                                [
                                                    0.3,
                                                    "#f1b6da"
                                                ],
                                                [
                                                    0.4,
                                                    "#fde0ef"
                                                ],
                                                [
                                                    0.5,
                                                    "#f7f7f7"
                                                ],
                                                [
                                                    0.6,
                                                    "#e6f5d0"
                                                ],
                                                [
                                                    0.7,
                                                    "#b8e186"
                                                ],
                                                [
                                                    0.8,
                                                    "#7fbc41"
                                                ],
                                                [
                                                    0.9,
                                                    "#4d9221"
                                                ],
                                                [
                                                    1,
                                                    "#276419"
                                                ]
                                            ],
                                            "sequential": [
                                                [
                                                    0,
                                                    "#0d0887"
                                                ],
                                                [
                                                    0.1111111111111111,
                                                    "#46039f"
                                                ],
                                                [
                                                    0.2222222222222222,
                                                    "#7201a8"
                                                ],
                                                [
                                                    0.3333333333333333,
                                                    "#9c179e"
                                                ],
                                                [
                                                    0.4444444444444444,
                                                    "#bd3786"
                                                ],
                                                [
                                                    0.5555555555555556,
                                                    "#d8576b"
                                                ],
                                                [
                                                    0.6666666666666666,
                                                    "#ed7953"
                                                ],
                                                [
                                                    0.7777777777777778,
                                                    "#fb9f3a"
                                                ],
                                                [
                                                    0.8888888888888888,
                                                    "#fdca26"
                                                ],
                                                [
                                                    1,
                                                    "#f0f921"
                                                ]
                                            ],
                                            "sequentialminus": [
                                                [
                                                    0,
                                                    "#0d0887"
                                                ],
                                                [
                                                    0.1111111111111111,
                                                    "#46039f"
                                                ],
                                                [
                                                    0.2222222222222222,
                                                    "#7201a8"
                                                ],
                                                [
                                                    0.3333333333333333,
                                                    "#9c179e"
                                                ],
                                                [
                                                    0.4444444444444444,
                                                    "#bd3786"
                                                ],
                                                [
                                                    0.5555555555555556,
                                                    "#d8576b"
                                                ],
                                                [
                                                    0.6666666666666666,
                                                    "#ed7953"
                                                ],
                                                [
                                                    0.7777777777777778,
                                                    "#fb9f3a"
                                                ],
                                                [
                                                    0.8888888888888888,
                                                    "#fdca26"
                                                ],
                                                [
                                                    1,
                                                    "#f0f921"
                                                ]
                                            ]
                                        },
                                        "colorway": [
                                            "#636efa",
                                            "#EF553B",
                                            "#00cc96",
                                            "#ab63fa",
                                            "#FFA15A",
                                            "#19d3f3",
                                            "#FF6692",
                                            "#B6E880",
                                            "#FF97FF",
                                            "#FECB52"
                                        ],
                                        "font": {
                                            "color": "#2a3f5f"
                                        },
                                        "geo": {
                                            "bgcolor": "white",
                                            "lakecolor": "white",
                                            "landcolor": "#E5ECF6",
                                            "showlakes": true,
                                            "showland": true,
                                            "subunitcolor": "white"
                                        },
                                        "hoverlabel": {
                                            "align": "left"
                                        },
                                        "hovermode": "closest",
                                        "mapbox": {
                                            "style": "light"
                                        },
                                        "paper_bgcolor": "white",
                                        "plot_bgcolor": "#E5ECF6",
                                        "polar": {
                                            "angularaxis": {
                                                "gridcolor": "white",
                                                "linecolor": "white",
                                                "ticks": ""
                                            },
                                            "bgcolor": "#E5ECF6",
                                            "radialaxis": {
                                                "gridcolor": "white",
                                                "linecolor": "white",
                                                "ticks": ""
                                            }
                                        },
                                        "scene": {
                                            "xaxis": {
                                                "backgroundcolor": "#E5ECF6",
                                                "gridcolor": "white",
                                                "gridwidth": 2,
                                                "linecolor": "white",
                                                "showbackground": true,
                                                "ticks": "",
                                                "zerolinecolor": "white"
                                            },
                                            "yaxis": {
                                                "backgroundcolor": "#E5ECF6",
                                                "gridcolor": "white",
                                                "gridwidth": 2,
                                                "linecolor": "white",
                                                "showbackground": true,
                                                "ticks": "",
                                                "zerolinecolor": "white"
                                            },
                                            "zaxis": {
                                                "backgroundcolor": "#E5ECF6",
                                                "gridcolor": "white",
                                                "gridwidth": 2,
                                                "linecolor": "white",
                                                "showbackground": true,
                                                "ticks": "",
                                                "zerolinecolor": "white"
                                            }
                                        },
                                        "shapedefaults": {
                                            "line": {
                                                "color": "#2a3f5f"
                                            }
                                        },
                                        "ternary": {
                                            "aaxis": {
                                                "gridcolor": "white",
                                                "linecolor": "white",
                                                "ticks": ""
                                            },
                                            "baxis": {
                                                "gridcolor": "white",
                                                "linecolor": "white",
                                                "ticks": ""
                                            },
                                            "bgcolor": "#E5ECF6",
                                            "caxis": {
                                                "gridcolor": "white",
                                                "linecolor": "white",
                                                "ticks": ""
                                            }
                                        },
                                        "title": {
                                            "x": 0.05
                                        },
                                        "xaxis": {
                                            "automargin": true,
                                            "gridcolor": "white",
                                            "linecolor": "white",
                                            "ticks": "",
                                            "title": {
                                                "standoff": 15
                                            },
                                            "zerolinecolor": "white",
                                            "zerolinewidth": 2
                                        },
                                        "yaxis": {
                                            "automargin": true,
                                            "gridcolor": "white",
                                            "linecolor": "white",
                                            "ticks": "",
                                            "title": {
                                                "standoff": 15
                                            },
                                            "zerolinecolor": "white",
                                            "zerolinewidth": 2
                                        }
                                    }
                                },
                                "title": {
                                    "text": "Period per dim"
                                }
                            }
                        },
                        "text/html": [
                            "<div>                            <div id=\"e495485f-bcda-41f6-a3f3-4026c6867cdc\" class=\"plotly-graph-div\" style=\"height:525px; width:100%;\"></div>            <script type=\"text/javascript\">                require([\"plotly\"], function(Plotly) {                    window.PLOTLYENV=window.PLOTLYENV || {};                                    if (document.getElementById(\"e495485f-bcda-41f6-a3f3-4026c6867cdc\")) {                    Plotly.newPlot(                        \"e495485f-bcda-41f6-a3f3-4026c6867cdc\",                        [{\"customdata\":[\"0 days 00:00:04\",\"0 days 00:00:04\",\"0 days 00:00:16.644191870\",\"0 days 00:00:16.644191870\",\"0 days 00:01:09.286287089\",\"0 days 00:01:09.286287089\",\"0 days 00:04:48\",\"0 days 00:04:48\",\"0 days 00:20:00\",\"0 days 00:20:00\",\"0 days 01:24:42.352941176\",\"0 days 01:24:42.352941176\",\"0 days 06:00:00\",\"0 days 06:00:00\",\"1 days 00:00:00\",\"1 days 00:00:00\"],\"hovertemplate\":\"Dim: %{y}<br>Period: %{customdata}<br><extra></extra>\",\"x\":[\"2000-01-01T00:00:04.000000000\",\"2000-01-01T00:00:04.000000000\",\"2000-01-01T00:00:16.644191870\",\"2000-01-01T00:00:16.644191870\",\"2000-01-01T00:01:09.286287089\",\"2000-01-01T00:01:09.286287089\",\"2000-01-01T00:04:48.000000000\",\"2000-01-01T00:04:48.000000000\",\"2000-01-01T00:20:00.000000000\",\"2000-01-01T00:20:00.000000000\",\"2000-01-01T01:24:42.352941176\",\"2000-01-01T01:24:42.352941176\",\"2000-01-01T06:00:00.000000000\",\"2000-01-01T06:00:00.000000000\",\"2000-01-02T00:00:00.000000000\",\"2000-01-02T00:00:00.000000000\"],\"y\":[0,1,2,3,4,5,6,7,8,9,10,11,12,13,14,15],\"type\":\"scatter\"}],                        {\"template\":{\"data\":{\"histogram2dcontour\":[{\"type\":\"histogram2dcontour\",\"colorbar\":{\"outlinewidth\":0,\"ticks\":\"\"},\"colorscale\":[[0.0,\"#0d0887\"],[0.1111111111111111,\"#46039f\"],[0.2222222222222222,\"#7201a8\"],[0.3333333333333333,\"#9c179e\"],[0.4444444444444444,\"#bd3786\"],[0.5555555555555556,\"#d8576b\"],[0.6666666666666666,\"#ed7953\"],[0.7777777777777778,\"#fb9f3a\"],[0.8888888888888888,\"#fdca26\"],[1.0,\"#f0f921\"]]}],\"choropleth\":[{\"type\":\"choropleth\",\"colorbar\":{\"outlinewidth\":0,\"ticks\":\"\"}}],\"histogram2d\":[{\"type\":\"histogram2d\",\"colorbar\":{\"outlinewidth\":0,\"ticks\":\"\"},\"colorscale\":[[0.0,\"#0d0887\"],[0.1111111111111111,\"#46039f\"],[0.2222222222222222,\"#7201a8\"],[0.3333333333333333,\"#9c179e\"],[0.4444444444444444,\"#bd3786\"],[0.5555555555555556,\"#d8576b\"],[0.6666666666666666,\"#ed7953\"],[0.7777777777777778,\"#fb9f3a\"],[0.8888888888888888,\"#fdca26\"],[1.0,\"#f0f921\"]]}],\"heatmap\":[{\"type\":\"heatmap\",\"colorbar\":{\"outlinewidth\":0,\"ticks\":\"\"},\"colorscale\":[[0.0,\"#0d0887\"],[0.1111111111111111,\"#46039f\"],[0.2222222222222222,\"#7201a8\"],[0.3333333333333333,\"#9c179e\"],[0.4444444444444444,\"#bd3786\"],[0.5555555555555556,\"#d8576b\"],[0.6666666666666666,\"#ed7953\"],[0.7777777777777778,\"#fb9f3a\"],[0.8888888888888888,\"#fdca26\"],[1.0,\"#f0f921\"]]}],\"heatmapgl\":[{\"type\":\"heatmapgl\",\"colorbar\":{\"outlinewidth\":0,\"ticks\":\"\"},\"colorscale\":[[0.0,\"#0d0887\"],[0.1111111111111111,\"#46039f\"],[0.2222222222222222,\"#7201a8\"],[0.3333333333333333,\"#9c179e\"],[0.4444444444444444,\"#bd3786\"],[0.5555555555555556,\"#d8576b\"],[0.6666666666666666,\"#ed7953\"],[0.7777777777777778,\"#fb9f3a\"],[0.8888888888888888,\"#fdca26\"],[1.0,\"#f0f921\"]]}],\"contourcarpet\":[{\"type\":\"contourcarpet\",\"colorbar\":{\"outlinewidth\":0,\"ticks\":\"\"}}],\"contour\":[{\"type\":\"contour\",\"colorbar\":{\"outlinewidth\":0,\"ticks\":\"\"},\"colorscale\":[[0.0,\"#0d0887\"],[0.1111111111111111,\"#46039f\"],[0.2222222222222222,\"#7201a8\"],[0.3333333333333333,\"#9c179e\"],[0.4444444444444444,\"#bd3786\"],[0.5555555555555556,\"#d8576b\"],[0.6666666666666666,\"#ed7953\"],[0.7777777777777778,\"#fb9f3a\"],[0.8888888888888888,\"#fdca26\"],[1.0,\"#f0f921\"]]}],\"surface\":[{\"type\":\"surface\",\"colorbar\":{\"outlinewidth\":0,\"ticks\":\"\"},\"colorscale\":[[0.0,\"#0d0887\"],[0.1111111111111111,\"#46039f\"],[0.2222222222222222,\"#7201a8\"],[0.3333333333333333,\"#9c179e\"],[0.4444444444444444,\"#bd3786\"],[0.5555555555555556,\"#d8576b\"],[0.6666666666666666,\"#ed7953\"],[0.7777777777777778,\"#fb9f3a\"],[0.8888888888888888,\"#fdca26\"],[1.0,\"#f0f921\"]]}],\"mesh3d\":[{\"type\":\"mesh3d\",\"colorbar\":{\"outlinewidth\":0,\"ticks\":\"\"}}],\"scatter\":[{\"fillpattern\":{\"fillmode\":\"overlay\",\"size\":10,\"solidity\":0.2},\"type\":\"scatter\"}],\"parcoords\":[{\"type\":\"parcoords\",\"line\":{\"colorbar\":{\"outlinewidth\":0,\"ticks\":\"\"}}}],\"scatterpolargl\":[{\"type\":\"scatterpolargl\",\"marker\":{\"colorbar\":{\"outlinewidth\":0,\"ticks\":\"\"}}}],\"bar\":[{\"error_x\":{\"color\":\"#2a3f5f\"},\"error_y\":{\"color\":\"#2a3f5f\"},\"marker\":{\"line\":{\"color\":\"#E5ECF6\",\"width\":0.5},\"pattern\":{\"fillmode\":\"overlay\",\"size\":10,\"solidity\":0.2}},\"type\":\"bar\"}],\"scattergeo\":[{\"type\":\"scattergeo\",\"marker\":{\"colorbar\":{\"outlinewidth\":0,\"ticks\":\"\"}}}],\"scatterpolar\":[{\"type\":\"scatterpolar\",\"marker\":{\"colorbar\":{\"outlinewidth\":0,\"ticks\":\"\"}}}],\"histogram\":[{\"marker\":{\"pattern\":{\"fillmode\":\"overlay\",\"size\":10,\"solidity\":0.2}},\"type\":\"histogram\"}],\"scattergl\":[{\"type\":\"scattergl\",\"marker\":{\"colorbar\":{\"outlinewidth\":0,\"ticks\":\"\"}}}],\"scatter3d\":[{\"type\":\"scatter3d\",\"line\":{\"colorbar\":{\"outlinewidth\":0,\"ticks\":\"\"}},\"marker\":{\"colorbar\":{\"outlinewidth\":0,\"ticks\":\"\"}}}],\"scattermapbox\":[{\"type\":\"scattermapbox\",\"marker\":{\"colorbar\":{\"outlinewidth\":0,\"ticks\":\"\"}}}],\"scatterternary\":[{\"type\":\"scatterternary\",\"marker\":{\"colorbar\":{\"outlinewidth\":0,\"ticks\":\"\"}}}],\"scattercarpet\":[{\"type\":\"scattercarpet\",\"marker\":{\"colorbar\":{\"outlinewidth\":0,\"ticks\":\"\"}}}],\"carpet\":[{\"aaxis\":{\"endlinecolor\":\"#2a3f5f\",\"gridcolor\":\"white\",\"linecolor\":\"white\",\"minorgridcolor\":\"white\",\"startlinecolor\":\"#2a3f5f\"},\"baxis\":{\"endlinecolor\":\"#2a3f5f\",\"gridcolor\":\"white\",\"linecolor\":\"white\",\"minorgridcolor\":\"white\",\"startlinecolor\":\"#2a3f5f\"},\"type\":\"carpet\"}],\"table\":[{\"cells\":{\"fill\":{\"color\":\"#EBF0F8\"},\"line\":{\"color\":\"white\"}},\"header\":{\"fill\":{\"color\":\"#C8D4E3\"},\"line\":{\"color\":\"white\"}},\"type\":\"table\"}],\"barpolar\":[{\"marker\":{\"line\":{\"color\":\"#E5ECF6\",\"width\":0.5},\"pattern\":{\"fillmode\":\"overlay\",\"size\":10,\"solidity\":0.2}},\"type\":\"barpolar\"}],\"pie\":[{\"automargin\":true,\"type\":\"pie\"}]},\"layout\":{\"autotypenumbers\":\"strict\",\"colorway\":[\"#636efa\",\"#EF553B\",\"#00cc96\",\"#ab63fa\",\"#FFA15A\",\"#19d3f3\",\"#FF6692\",\"#B6E880\",\"#FF97FF\",\"#FECB52\"],\"font\":{\"color\":\"#2a3f5f\"},\"hovermode\":\"closest\",\"hoverlabel\":{\"align\":\"left\"},\"paper_bgcolor\":\"white\",\"plot_bgcolor\":\"#E5ECF6\",\"polar\":{\"bgcolor\":\"#E5ECF6\",\"angularaxis\":{\"gridcolor\":\"white\",\"linecolor\":\"white\",\"ticks\":\"\"},\"radialaxis\":{\"gridcolor\":\"white\",\"linecolor\":\"white\",\"ticks\":\"\"}},\"ternary\":{\"bgcolor\":\"#E5ECF6\",\"aaxis\":{\"gridcolor\":\"white\",\"linecolor\":\"white\",\"ticks\":\"\"},\"baxis\":{\"gridcolor\":\"white\",\"linecolor\":\"white\",\"ticks\":\"\"},\"caxis\":{\"gridcolor\":\"white\",\"linecolor\":\"white\",\"ticks\":\"\"}},\"coloraxis\":{\"colorbar\":{\"outlinewidth\":0,\"ticks\":\"\"}},\"colorscale\":{\"sequential\":[[0.0,\"#0d0887\"],[0.1111111111111111,\"#46039f\"],[0.2222222222222222,\"#7201a8\"],[0.3333333333333333,\"#9c179e\"],[0.4444444444444444,\"#bd3786\"],[0.5555555555555556,\"#d8576b\"],[0.6666666666666666,\"#ed7953\"],[0.7777777777777778,\"#fb9f3a\"],[0.8888888888888888,\"#fdca26\"],[1.0,\"#f0f921\"]],\"sequentialminus\":[[0.0,\"#0d0887\"],[0.1111111111111111,\"#46039f\"],[0.2222222222222222,\"#7201a8\"],[0.3333333333333333,\"#9c179e\"],[0.4444444444444444,\"#bd3786\"],[0.5555555555555556,\"#d8576b\"],[0.6666666666666666,\"#ed7953\"],[0.7777777777777778,\"#fb9f3a\"],[0.8888888888888888,\"#fdca26\"],[1.0,\"#f0f921\"]],\"diverging\":[[0,\"#8e0152\"],[0.1,\"#c51b7d\"],[0.2,\"#de77ae\"],[0.3,\"#f1b6da\"],[0.4,\"#fde0ef\"],[0.5,\"#f7f7f7\"],[0.6,\"#e6f5d0\"],[0.7,\"#b8e186\"],[0.8,\"#7fbc41\"],[0.9,\"#4d9221\"],[1,\"#276419\"]]},\"xaxis\":{\"gridcolor\":\"white\",\"linecolor\":\"white\",\"ticks\":\"\",\"title\":{\"standoff\":15},\"zerolinecolor\":\"white\",\"automargin\":true,\"zerolinewidth\":2},\"yaxis\":{\"gridcolor\":\"white\",\"linecolor\":\"white\",\"ticks\":\"\",\"title\":{\"standoff\":15},\"zerolinecolor\":\"white\",\"automargin\":true,\"zerolinewidth\":2},\"scene\":{\"xaxis\":{\"backgroundcolor\":\"#E5ECF6\",\"gridcolor\":\"white\",\"linecolor\":\"white\",\"showbackground\":true,\"ticks\":\"\",\"zerolinecolor\":\"white\",\"gridwidth\":2},\"yaxis\":{\"backgroundcolor\":\"#E5ECF6\",\"gridcolor\":\"white\",\"linecolor\":\"white\",\"showbackground\":true,\"ticks\":\"\",\"zerolinecolor\":\"white\",\"gridwidth\":2},\"zaxis\":{\"backgroundcolor\":\"#E5ECF6\",\"gridcolor\":\"white\",\"linecolor\":\"white\",\"showbackground\":true,\"ticks\":\"\",\"zerolinecolor\":\"white\",\"gridwidth\":2}},\"shapedefaults\":{\"line\":{\"color\":\"#2a3f5f\"}},\"annotationdefaults\":{\"arrowcolor\":\"#2a3f5f\",\"arrowhead\":0,\"arrowwidth\":1},\"geo\":{\"bgcolor\":\"white\",\"landcolor\":\"#E5ECF6\",\"subunitcolor\":\"white\",\"showland\":true,\"showlakes\":true,\"lakecolor\":\"white\"},\"title\":{\"x\":0.05},\"mapbox\":{\"style\":\"light\"}}},\"title\":{\"text\":\"Period per dim\"}},                        {\"responsive\": true}                    ).then(function(){\n",
                            "                            \n",
                            "var gd = document.getElementById('e495485f-bcda-41f6-a3f3-4026c6867cdc');\n",
                            "var x = new MutationObserver(function (mutations, observer) {{\n",
                            "        var display = window.getComputedStyle(gd).display;\n",
                            "        if (!display || display === 'none') {{\n",
                            "            console.log([gd, 'removed!']);\n",
                            "            Plotly.purge(gd);\n",
                            "            observer.disconnect();\n",
                            "        }}\n",
                            "}});\n",
                            "\n",
                            "// Listen for the removal of the full notebook cells\n",
                            "var notebookContainer = gd.closest('#notebook-container');\n",
                            "if (notebookContainer) {{\n",
                            "    x.observe(notebookContainer, {childList: true});\n",
                            "}}\n",
                            "\n",
                            "// Listen for the clearing of the current output cell\n",
                            "var outputEl = gd.closest('.output');\n",
                            "if (outputEl) {{\n",
                            "    x.observe(outputEl, {childList: true});\n",
                            "}}\n",
                            "\n",
                            "                        })                };                });            </script>        </div>"
                        ]
                    },
                    "metadata": {},
                    "output_type": "display_data"
                }
            ],
            "source": [
                "def plotly_wave_length_per_dim(self):\n",
                "    from plotly import graph_objects as go\n",
                "    import numpy as np\n",
                "    fig = go.Figure()\n",
                "    ws = self.get_angular_freqs()\n",
                "    f = ws/(2*np.pi)\n",
                "    lmbd = 1/f\n",
                "    periods = self._num2td(lmbd)\n",
                "    print(periods.dtype)\n",
                "    x = pd.Timestamp('01.01.2000 00:00:00') + periods\n",
                "    fig.add_trace(\n",
                "        go.Scatter(\n",
                "            y=np.arange(0, self.d_dim), \n",
                "            x=x,\n",
                "            customdata=pd.to_timedelta(periods).map(str),\n",
                "            hovertemplate=\"Dim: %{y}<br>Period: %{customdata}<br><extra></extra>\"\n",
                "        )\n",
                "    )\n",
                "    fig.update_layout(title='Period per dim')\n",
                "    return fig\n",
                "\n",
                "plotly_wave_length_per_dim(pe)"
            ]
        },
        {
            "cell_type": "code",
            "execution_count": null,
            "metadata": {},
            "outputs": [],
            "source": [
                "ctpe.get_angular_freqs()"
            ]
        },
        {
            "cell_type": "code",
            "execution_count": null,
            "metadata": {},
            "outputs": [],
            "source": [
                "class TimePositionalEncoding(PositionalEncoding):\n",
                "\n",
                "    def __init__(self, d_dim, max_period='6h', min_period='1s', inplace=True):\n",
                "        super().__init__(d_dim, max_period)  # Add super call to the parent class\n",
                "        self.min_period = min_period\n",
                "        self.inplace = inplace\n",
                "\n",
                "    def fit(self, X=None, y=None):\n",
                "        # Map timestamp values to a sequence\n",
                "        self.min_period = self._td2num(pd.Timedelta(self.min_period))\n",
                "        self.max_period = self._td2num(pd.Timedelta(self.max_period))\n",
                "        return self\n",
                "\n",
                "    def _td2num(self, x):\n",
                "        if not isinstance(x, np.ndarray) and not isinstance(x, pd.Series):\n",
                "            x = pd.Timedelta(x)\n",
                "        else:\n",
                "            return x.dt.total_seconds()\n",
                "\n",
                "        return x.total_seconds()\n",
                "\n",
                "    def _num2td(self, x):\n",
                "        return pd.Timedelta('1s')*x\n",
                "\n",
                "    def get_angular_freqs(self):\n",
                "        \"\"\"period of length 1\"\"\"\n",
                "        i = np.arange(self.d_dim)//2\n",
                "        f = self.min_period*np.power(self.max_period/self.min_period, (2*i/self.d_dim))\n",
                "        ws = 2*np.pi*f\n",
                "        return ws\n",
                "\n",
                "    def transform(self, X, y=None, inplace=None):\n",
                "        \"\"\" \n",
                "\n",
                "        sin(w*t) \n",
                "        \"\"\"\n",
                "        inplace = self.inplace if inplace is None else inplace\n",
                "\n",
                "        if isinstance(X, pd.DataFrame):\n",
                "            x = X[TIME]\n",
                "        assert isinstance(x, pd.Series), 'TimePosEnc: Sth. went wrong'\n",
                "        # Convert timestamps to numeric in seconds\n",
                "        td = (x - pd.to_datetime(x.dt.date))\n",
                "        t = self._td2num(td).to_numpy()\n",
                "        freqs = self.get_angular_freqs()\n",
                "\n",
                "        # calc pos enc (T, d_dim)\n",
                "        xt = self._pos_enc(freqs, t)\n",
                "        if inplace:\n",
                "            xt = pd.DataFrame(data=xt, columns=[\n",
                "                              f'pe_dim_{i}' for i in range(0, self.d_dim)])\n",
                "            xt = pd.concat([X, xt], axis=1)\n",
                "\n",
                "        return xt\n",
                "\n",
                "\n",
                " \n",
                "    \n"
            ]
        },
        {
            "cell_type": "code",
            "execution_count": null,
            "metadata": {},
            "outputs": [],
            "source": [
                "pd.Timedelta('24h')/pd.Timedelta('1000ms')"
            ]
        },
        {
            "attachments": {},
            "cell_type": "markdown",
            "metadata": {},
            "source": []
        },
        {
            "cell_type": "code",
            "execution_count": null,
            "metadata": {},
            "outputs": [],
            "source": [
                "np.log2(8640)"
            ]
        },
        {
            "cell_type": "code",
            "execution_count": null,
            "metadata": {},
            "outputs": [],
            "source": [
                "d_model = 32\n",
                "seq_length = 864000\n",
                "max_period = 864000\n",
                "min_freq = 1/max_period\n",
                "#min_freq = 1e-3\n",
                "#min_freq = 100\n",
                "print(d_model, max_period, min_freq)"
            ]
        },
        {
            "cell_type": "code",
            "execution_count": null,
            "metadata": {},
            "outputs": [],
            "source": [
                "d_model = 32\n",
                "seq_length = 864000\n",
                "max_period = 10000\n",
                "min_freq = 1/max_period\n",
                "#min_freq = 1e-3\n",
                "#min_freq = 100\n",
                "print(d_model, max_period, min_freq)"
            ]
        },
        {
            "cell_type": "code",
            "execution_count": null,
            "metadata": {},
            "outputs": [],
            "source": [
                "def w_discon(d_dim, min_freq):\n",
                "    i = np.arange(d_dim)//2\n",
                "    ws = np.power(min_freq, (2*i/d_dim))\n",
                "    return ws\n",
                "    \n",
                "def w_discon1(d_dim, min_freq):\n",
                "    \"\"\"period of length 1\"\"\"\n",
                "    i = np.arange(d_dim)//2\n",
                "    ws = (2*np.pi)*np.power(min_freq, (2*i/d_dim))\n",
                "    return ws\n",
                "\n",
                "def w_discon2(d_dim, min_freq):\n",
                "    \"\"\"Take only every second angular frequency\"\"\"\n",
                "    d_dim = d_dim*2\n",
                "    i = np.arange(d_dim)//2\n",
                "    ws = np.power(min_freq, (2*i/d_dim))\n",
                "    return ws[1::2]\n",
                "\n",
                "def w_discon3(d_dim, min_freq):\n",
                "    \"\"\"period of length 1\"\"\"\n",
                "    b = 2\n",
                "    i = np.arange(d_dim)//2\n",
                "    lmbd = 1/min_freq\n",
                "    tmp = b**(i)\n",
                "    f = 1/(lmbd/(np.minimum(tmp, lmbd)))\n",
                "    ws = 2*np.pi*f\n",
                "    return ws\n",
                "\n",
                "w = w_discon3\n",
                "    #d = (n_dim-d)//2\n",
                "    #lmbda = pd.Timedelta('24h')/min_freq**(2*d)\n",
                "    #lmbda = td2num(lmbda, res)\n",
                "    #return 1/lmbda*(2*np.pi)\n",
                "lmbd = lambda freqs: 2*np.pi*freqs\n",
                "print('w:\\n', w(d_model, min_freq))\n",
                "print('period:\\n', lmbd(w(d_model, min_freq)))"
            ]
        },
        {
            "cell_type": "code",
            "execution_count": null,
            "metadata": {},
            "outputs": [],
            "source": [
                "def plot_angular_freq(w, d_model, min_freq=1e-3):\n",
                "\n",
                "    n = w(d_model, min_freq=min_freq)\n",
                "    #plt.yscale('linear')\n",
                "    plt.plot(np.arange(len(n)), n, label=f'min{min(n)}')\n",
                "    plt.xlabel('d - dimension')\n",
                "    plt.ylabel('$\\omega(d)$')\n",
                "    plt.grid(True)\n",
                "    plt.legend()\n",
                "\n",
                "plot_angular_freq(w_discon3, d_model, min_freq)\n",
                "plot_angular_freq(w, d_model, min_freq)\n"
            ]
        },
        {
            "cell_type": "code",
            "execution_count": null,
            "metadata": {},
            "outputs": [],
            "source": [
                "def plot_waves(freqs, max_n):\n",
                "    import matplotlib.pyplot as plt\n",
                "\n",
                "    n_dim = len(freqs)\n",
                "\n",
                "    # Create a figure and an axis\n",
                "    fig, ax = plt.subplots(figsize=(10,10))\n",
                "\n",
                "    # Loop over the range of dimensions\n",
                "    x = np.linspace(0, max_n, 1000)\n",
                "    for d in range(n_dim):   \n",
                "        oscil = np.sin if d%2==0 else np.cos     \n",
                "        ax.plot(x, oscil(freqs[d]*x)+2*d, label=f'pe dim={d}')\n",
                "    # Set the axis scales to be equal\n",
                "    #ax.set_aspect('equal', 'box')\n",
                "\n",
                "    # Show the legend\n",
                "    ax.legend()\n",
                "\n",
                "\n",
                "plot_waves(w(d_dim=d_model, min_freq=min_freq), seq_length)"
            ]
        },
        {
            "cell_type": "code",
            "execution_count": null,
            "metadata": {},
            "outputs": [],
            "source": [
                "w(d_model, min_freq)[::-1]\n"
            ]
        },
        {
            "cell_type": "code",
            "execution_count": null,
            "metadata": {},
            "outputs": [],
            "source": [
                "def positional_encoding(position, d_model, min_freq=1e-4):\n",
                "    freqs = w(d_model, min_freq)\n",
                "    pos_enc = position.reshape(-1,1)*freqs.reshape(1,-1)\n",
                "    pos_enc[:, ::2] = np.cos(pos_enc[:, ::2])\n",
                "    pos_enc[:, 1::2] = np.sin(pos_enc[:, 1::2])\n",
                "    return pos_enc\n",
                "\n",
                "positional_encoding(np.arange(10), d_model=6, min_freq=1e-1)"
            ]
        },
        {
            "cell_type": "code",
            "execution_count": null,
            "metadata": {},
            "outputs": [],
            "source": [
                "### Plotting ####\n",
                "max_pos = seq_length\n",
                "mat = positional_encoding(np.arange(max_pos), d_model, min_freq=min_freq)\n",
                "plt.pcolormesh(mat, cmap='copper')\n",
                "plt.xlabel('Depth')\n",
                "plt.xlim((0, d_model))\n",
                "plt.ylabel('Position')\n",
                "plt.title(\"PE matrix heat map\")\n",
                "plt.colorbar()\n",
                "plt.show()"
            ]
        },
        {
            "cell_type": "code",
            "execution_count": null,
            "metadata": {},
            "outputs": [],
            "source": [
                "def plot_dotproduct_similarity(pe, pos):\n",
                "    # let's choose the first vector\n",
                "    first_vector = pe[pos, :]\n",
                "\n",
                "    # compute the dot products\n",
                "    dot_products = np.dot(pe,first_vector)\n",
                "\n",
                "    # visualize with matplotlib\n",
                "    plt.figure(figsize=(10, 6))\n",
                "    plt.plot(dot_products)\n",
                "    plt.title('Dot products of the first vector with the rest')\n",
                "    plt.xlabel('Vector index')\n",
                "    plt.ylabel('Dot product')\n",
                "    plt.grid(True)\n",
                "    \n",
                "plot_dotproduct_similarity(mat, 0)"
            ]
        },
        {
            "cell_type": "code",
            "execution_count": null,
            "metadata": {},
            "outputs": [],
            "source": [
                "def pos_enc(t:np.ndarray, n_dim: int, w): \n",
                "    PE = np.zeros((len(t), n_dim))\n",
                "    angular_freqs = w(n_dim) min_freq**(2*(np.arange(d_model)//2)/d_model)\n",
                "    for i, t in enumerate(t):\n",
                "        for d in range(n_dim):\n",
                "            if d%2 == 0:\n",
                "                PE[i, d] = np.sin(w(d)*t)\n",
                "            else:\n",
                "                PE[i, d] = np.cos(w(d)*t)\n",
                "    return PE"
            ]
        },
        {
            "cell_type": "code",
            "execution_count": null,
            "metadata": {},
            "outputs": [],
            "source": [
                "df = pd.DataFrame(columns=[TIME], \n",
                "                  data=pd.date_range(start='6/1/2020', end='6/3/2020 00:30:00', freq='1s')[:-1])\n",
                "df['f1'] = 2\n",
                "df"
            ]
        },
        {
            "cell_type": "code",
            "execution_count": null,
            "metadata": {},
            "outputs": [],
            "source": [
                "pe\n",
                "sns.set(rc={'figure.figsize':(14,4)})\n",
                "ax = sns.heatmap(pe.T[:,:])\n",
                "ax.invert_yaxis()\n",
                "ax.set_ylabel(\"dimension d\")\n",
                "ax.set_xlabel(\"time step\")\n",
                "ax.set_title(\"Sinusoid absolute positional encoding\")"
            ]
        },
        {
            "cell_type": "code",
            "execution_count": null,
            "metadata": {},
            "outputs": [],
            "source": [
                "pe.shape"
            ]
        },
        {
            "cell_type": "code",
            "execution_count": null,
            "metadata": {},
            "outputs": [],
            "source": [
                "def get_suitable_base(d, min_period):\n",
                "    return (np.log(td2num(pd.Timedelta('24h'), res=min_period)/d)/ np.log(d))*2\n",
                "\n",
                "[get_suitable_base(i, '10ms') for i in range(1, 20)]"
            ]
        },
        {
            "cell_type": "code",
            "execution_count": null,
            "metadata": {},
            "outputs": [],
            "source": [
                "get_suitable_base(3, '100ms' aaaaaq)"
            ]
        },
        {
            "cell_type": "code",
            "execution_count": null,
            "metadata": {},
            "outputs": [],
            "source": [
                "import numpy as np\n",
                "import seaborn as sns\n",
                "def get_position_angle_vec(position, dimensions):\n",
                "    return [position / np.power(10000, 2 * (i // 2) / (dimensions))\n",
                "            for i in range(dimensions)]\n",
                "\n",
                "def sinusoid_positional_encoding_ref(length, dim):   \n",
                "    PE = np.array([get_position_angle_vec(i, dim) for i in range(length)])\n",
                "    PE[:, 0::2] = np.sin(PE[:, 0::2])\n",
                "    PE[:, 1::2] = np.cos(PE[:, 1::2])\n",
                "    return PE\n",
                "\n",
                "pe2 = sinusoid_positional_encoding_ref(20000, 40)\n",
                "\n",
                "sns.set(rc={'figure.figsize':(14,4)})\n",
                "ax = sns.heatmap(pe2.T)\n",
                "ax.invert_yaxis()\n",
                "ax.set_ylabel(\"dimension d\")\n",
                "ax.set_xlabel(\"time step\")\n",
                "ax.set_title(\"Sinusoid absolute positional encoding\")"
            ]
        }
    ],
    "metadata": {
        "kernelspec": {
            "display_name": "Python 3 (ipykernel)",
            "language": "python",
            "name": "python3"
        },
        "language_info": {
            "codemirror_mode": {
                "name": "ipython",
                "version": 3
            },
            "file_extension": ".py",
            "mimetype": "text/x-python",
            "name": "python",
            "nbconvert_exporter": "python",
            "pygments_lexer": "ipython3",
            "version": "3.8.10"
        }
    },
    "nbformat": 4,
    "nbformat_minor": 2
}
